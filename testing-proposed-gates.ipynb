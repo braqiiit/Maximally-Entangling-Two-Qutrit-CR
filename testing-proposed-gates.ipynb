{
 "cells": [
  {
   "cell_type": "code",
   "execution_count": 1,
   "id": "e1d345c4",
   "metadata": {},
   "outputs": [],
   "source": [
    "# Configure JAX\n",
    "import jax\n",
    "jax.config.update(\"jax_enable_x64\", True)\n",
    "jax.config.update(\"jax_platform_name\", \"cpu\")"
   ]
  },
  {
   "cell_type": "code",
   "execution_count": 2,
   "id": "dbe09831",
   "metadata": {},
   "outputs": [],
   "source": [
    "import warnings\n",
    "warnings.filterwarnings('ignore')"
   ]
  },
  {
   "cell_type": "code",
   "execution_count": 3,
   "id": "03bf9488",
   "metadata": {},
   "outputs": [],
   "source": [
    "import numpy as np\n",
    "from qiskit import pulse\n",
    "\n",
    "from twoqutritpulsesimulator import TwoQutritPulseSimulator\n",
    "from processtomography import TwoQutritProcessTomography"
   ]
  },
  {
   "cell_type": "code",
   "execution_count": null,
   "id": "493e8ff8",
   "metadata": {},
   "outputs": [],
   "source": []
  },
  {
   "cell_type": "markdown",
   "id": "9203a25d",
   "metadata": {},
   "source": [
    "## Defining some useful functions and making some instantiations"
   ]
  },
  {
   "cell_type": "code",
   "execution_count": 4,
   "id": "637f62f9",
   "metadata": {},
   "outputs": [
    {
     "name": "stderr",
     "output_type": "stream",
     "text": [
      "WARNING:2025-06-16 11:58:14,490:jax._src.xla_bridge:966: An NVIDIA GPU may be present on this machine, but a CUDA-enabled jaxlib is not installed. Falling back to cpu.\n"
     ]
    }
   ],
   "source": [
    "sim = TwoQutritPulseSimulator()\n",
    "backend = sim.get_backend()"
   ]
  },
  {
   "cell_type": "code",
   "execution_count": 5,
   "id": "8ac02908",
   "metadata": {},
   "outputs": [],
   "source": [
    "dchan0 = pulse.DriveChannel(0)\n",
    "dchan1 = pulse.DriveChannel(1)\n",
    "\n",
    "uchan0 = pulse.ControlChannel(0)\n",
    "uchan1 = pulse.ControlChannel(1)\n",
    "\n",
    "achan0 = pulse.AcquireChannel(0)\n",
    "achan1 = pulse.AcquireChannel(1)\n",
    "\n",
    "memslot0 = pulse.MemorySlot(0)\n",
    "memslot1 = pulse.MemorySlot(1)"
   ]
  },
  {
   "cell_type": "code",
   "execution_count": 6,
   "id": "00f091e1",
   "metadata": {},
   "outputs": [],
   "source": [
    "def get_cr01_pulse(amp):\n",
    "    dur = Parameter('duration')\n",
    "    with pulse.build(name=\"cr_01\") as cr01_pulse:        \n",
    "        pulse.set_frequency(freq_1, uchan0)\n",
    "        pulse.play(pulse.GaussianSquare(dur, amp, 76, 0.9*dur, limit_amplitude=False), uchan0)\n",
    "    return cr01_pulse\n",
    "\n",
    "def get_cr12_pulse(amp):\n",
    "    dur = Parameter('duration')\n",
    "    with pulse.build(name=\"cr_12\") as cr12_pulse:        \n",
    "        pulse.set_frequency(ef_freq_1, uchan0)\n",
    "        pulse.play(pulse.GaussianSquare(dur, amp, 76, 0.9*dur, limit_amplitude=False), uchan0)\n",
    "    return cr12_pulse"
   ]
  },
  {
   "cell_type": "code",
   "execution_count": 7,
   "id": "9b2b6e30",
   "metadata": {},
   "outputs": [],
   "source": [
    "def process_fidelity(chi_desired, chi_ideal):\n",
    "    return np.trace(np.matmul(chi_desired, chi_ideal))/81"
   ]
  },
  {
   "cell_type": "code",
   "execution_count": 8,
   "id": "c658672e",
   "metadata": {},
   "outputs": [],
   "source": [
    "from qiskit import pulse\n",
    "from simulator_parameters_2q import get_parameter\n",
    "from qiskit.circuit import Parameter\n",
    "from qiskit.quantum_info import Statevector\n",
    "\n",
    "freq_0 = get_parameter('freq', 0)\n",
    "freq_1 = get_parameter('freq', 1)\n",
    "\n",
    "ef_freq_0 = get_parameter('ef_freq', 0)\n",
    "ef_freq_1 = get_parameter('ef_freq', 1)"
   ]
  },
  {
   "cell_type": "code",
   "execution_count": 9,
   "id": "64599768",
   "metadata": {},
   "outputs": [],
   "source": [
    "qpt = TwoQutritProcessTomography(backend=backend)"
   ]
  },
  {
   "cell_type": "code",
   "execution_count": 10,
   "id": "79a7c0c0",
   "metadata": {
    "scrolled": false
   },
   "outputs": [],
   "source": [
    "import numpy as np\n",
    "import matplotlib.pyplot as plt\n",
    "from matplotlib.colors import LinearSegmentedColormap, Normalize\n",
    "import matplotlib.cm as cm\n",
    "\n",
    "\n",
    "def compare_plot(ideal_chi_matrix, sim_chi_matrix):\n",
    "    dim = 81\n",
    "    chi_ideal = np.real(np.array(ideal_chi_matrix))\n",
    "    chi_sim = np.real(np.array(sim_chi_matrix))\n",
    "\n",
    "    if chi_ideal[0][0] > 5:\n",
    "        print(f\"The value of the (0,0) elements is {chi_ideal[0][0]} and is an outlier. Removing that point for better comparison\")\n",
    "        chi_ideal[0][0] = 0\n",
    "        chi_sim[0][0] = 0\n",
    "    \n",
    "    # Plotting setup\n",
    "    fig, axs = plt.subplots(1, 2, figsize=(10, 5), sharey=True, facecolor='white')\n",
    "\n",
    "    # Define VIBGYOR gradient colors\n",
    "    vibgyor_colors = [\n",
    "        '#0000FF',  # Blue\n",
    "        '#FFFFFF',  # White\n",
    "        '#FF0000'   # Red\n",
    "    ]\n",
    "    vibgyor_cmap = LinearSegmentedColormap.from_list(\"vibgyor\", vibgyor_colors)\n",
    "\n",
    "    # Range of color scale\n",
    "    vmin = -max(chi_ideal.max(), chi_sim.max())\n",
    "    vmax = max(chi_ideal.max(), chi_sim.max())\n",
    "\n",
    "    # Plotting chi_theory\n",
    "    im0 = axs[0].imshow(np.abs(chi_ideal), cmap=vibgyor_cmap, vmin=vmin, vmax=vmax)\n",
    "    axs[0].set_xlabel(\"Theory\", fontsize=14)\n",
    "    axs[0].tick_params(labelsize=10)\n",
    "\n",
    "    # Plotting chi_sim\n",
    "    im1 = axs[1].imshow(np.abs(chi_sim), cmap=vibgyor_cmap, vmin=vmin, vmax=vmax)\n",
    "    axs[1].set_xlabel(\"Simulation\", fontsize=14)\n",
    "    axs[1].tick_params(labelsize=10)\n",
    "\n",
    "    # Adjust layout to make space for colorbar\n",
    "    plt.subplots_adjust(right=0.85)\n",
    "\n",
    "    # Correctly placed and labeled colorbar\n",
    "    cbar_ax = fig.add_axes([0.88, 0.15, 0.02, 0.7])  # Pushed further right\n",
    "    cbar = fig.colorbar(im1, cax=cbar_ax)\n",
    "    cbar.set_label(r\"$\\chi_{ij}$\", fontsize=14)\n",
    "    cbar.ax.tick_params(labelsize=12)\n",
    "\n",
    "    # White figure background\n",
    "    fig.patch.set_facecolor('white')\n",
    "\n",
    "    display(plt.show())"
   ]
  },
  {
   "cell_type": "code",
   "execution_count": null,
   "id": "3e4905b2",
   "metadata": {},
   "outputs": [],
   "source": []
  },
  {
   "cell_type": "markdown",
   "id": "a8b138ca",
   "metadata": {},
   "source": [
    "# Realizing the proposed UCX01 gate"
   ]
  },
  {
   "cell_type": "markdown",
   "id": "7e883056",
   "metadata": {},
   "source": [
    "### Obtaining the process matrix of the ideal UCX01 gate"
   ]
  },
  {
   "cell_type": "code",
   "execution_count": 11,
   "id": "96447f85",
   "metadata": {},
   "outputs": [],
   "source": [
    "ideal_ucx01 = np.array(np.kron([[0,1,0],[1,0,0],[0,0,1j]], [[1,0,0],[0,0,0],[0,0,0]]) + np.kron([[1,0,0],[0,1,0],[0,0,1]], [[0,0,0],[0,1,0],[0,0,0]]) + np.kron([[0,1,0],[1,0,0],[0,0,-1j]], [[0,0,0],[0,0,0],[0,0,1]]), dtype='complex').copy()"
   ]
  },
  {
   "cell_type": "code",
   "execution_count": 12,
   "id": "29b4dbad",
   "metadata": {},
   "outputs": [],
   "source": [
    "process_matrix_ideal_ucx01 = qpt.run(gate=ideal_ucx01)"
   ]
  },
  {
   "cell_type": "code",
   "execution_count": null,
   "id": "2d0a3604",
   "metadata": {},
   "outputs": [],
   "source": []
  },
  {
   "cell_type": "markdown",
   "id": "1f26c0ec",
   "metadata": {},
   "source": [
    "### Obtaining the process matrix of the simulated UCX01 gate"
   ]
  },
  {
   "cell_type": "code",
   "execution_count": 13,
   "id": "964976c0",
   "metadata": {},
   "outputs": [],
   "source": [
    "dt = 1/4.5e9\n",
    "\n",
    "amplitude = 1.1\n",
    "duration = 900\n",
    "\n",
    "cr_pulse = get_cr01_pulse(amplitude)\n",
    "cr_pulse.assign_parameters({'duration': int(duration)})\n",
    "t_span = [0., cr_pulse.duration*dt]\n",
    "\n",
    "state_array = []\n",
    "for i in range(9):\n",
    "    y0 = np.array([0,0,0,0,0,0,0,0,0])\n",
    "    y0[i] = 1\n",
    "    y0 = Statevector(y0)\n",
    "    cr_job = backend.solve(cr_pulse, t_span=t_span, y0=y0)\n",
    "    state_array.append(cr_job[0].y[-1].data)\n",
    "state_array = np.array(state_array)\n",
    "candidate_gate_ucx01 = state_array.transpose()"
   ]
  },
  {
   "cell_type": "code",
   "execution_count": 14,
   "id": "d1d98ee9",
   "metadata": {},
   "outputs": [],
   "source": [
    "global_phase_ucx01 = 1/(candidate_gate_ucx01[0][3]/np.abs(candidate_gate_ucx01[0][3]))"
   ]
  },
  {
   "cell_type": "code",
   "execution_count": 15,
   "id": "f18443b7",
   "metadata": {},
   "outputs": [],
   "source": [
    "theta = -np.pi/14\n",
    "phase_gate_0 = np.array([[1, 0, 0],[0, np.cos(theta)+(1j*np.sin(theta)), 0],[0, 0, (1/np.sqrt(2))-(1j/np.sqrt(2))]])"
   ]
  },
  {
   "cell_type": "code",
   "execution_count": 16,
   "id": "11a1c8ff",
   "metadata": {},
   "outputs": [],
   "source": [
    "phase_gate_1 = global_phase_ucx01*np.kron(np.eye(3), phase_gate_0)"
   ]
  },
  {
   "cell_type": "code",
   "execution_count": 17,
   "id": "005b6d90",
   "metadata": {},
   "outputs": [],
   "source": [
    "sim_ucx01 = np.matmul(phase_gate_1, candidate_gate_ucx01)"
   ]
  },
  {
   "cell_type": "code",
   "execution_count": 18,
   "id": "97fbacf7",
   "metadata": {},
   "outputs": [],
   "source": [
    "process_matrix_sim_ucx01 = qpt.run(gate=sim_ucx01)"
   ]
  },
  {
   "cell_type": "code",
   "execution_count": null,
   "id": "db138036",
   "metadata": {},
   "outputs": [],
   "source": []
  },
  {
   "cell_type": "markdown",
   "id": "5811584a",
   "metadata": {},
   "source": [
    "### Checking the fidelity of the simulated gate."
   ]
  },
  {
   "cell_type": "code",
   "execution_count": 19,
   "id": "843b8723",
   "metadata": {},
   "outputs": [
    {
     "name": "stdout",
     "output_type": "stream",
     "text": [
      "The fidelity of the simulated UCX01 gate is : (0.9973447086171396+1.4802973661668753e-16j).\n"
     ]
    }
   ],
   "source": [
    "fid_ucx01 = process_fidelity(process_matrix_ideal_ucx01, process_matrix_sim_ucx01)\n",
    "print(f\"The fidelity of the simulated UCX01 gate is : {fid_ucx01}.\")"
   ]
  },
  {
   "cell_type": "code",
   "execution_count": 20,
   "id": "25b44dbb",
   "metadata": {},
   "outputs": [
    {
     "data": {
      "image/png": "[encoded data removed]",
      "text/plain": [
       "<Figure size 1000x500 with 3 Axes>"
      ]
     },
     "metadata": {},
     "output_type": "display_data"
    },
    {
     "data": {
      "text/plain": [
       "None"
      ]
     },
     "metadata": {},
     "output_type": "display_data"
    }
   ],
   "source": [
    "compare_plot(process_matrix_ideal_ucx01, process_matrix_sim_ucx01)"
   ]
  },
  {
   "cell_type": "raw",
   "id": "1cb83bb8",
   "metadata": {},
   "source": []
  },
  {
   "cell_type": "code",
   "execution_count": null,
   "id": "2bae2485",
   "metadata": {},
   "outputs": [],
   "source": []
  },
  {
   "cell_type": "markdown",
   "id": "1308d661",
   "metadata": {},
   "source": [
    "# Realizing the proposed UCX12 gate"
   ]
  },
  {
   "cell_type": "markdown",
   "id": "2699470b",
   "metadata": {},
   "source": [
    "### Obtaining the process matrix of the ideal UCX12 gate"
   ]
  },
  {
   "cell_type": "code",
   "execution_count": 21,
   "id": "525bcda3",
   "metadata": {},
   "outputs": [],
   "source": [
    "ideal_ucx12 = np.array(np.kron([[1j,0,0],[0,0,1],[0,1,0]], [[1,0,0],[0,0,0],[0,0,0]]) + np.kron([[1,0,0],[0,1,0],[0,0,1]], [[0,0,0],[0,1,0],[0,0,0]]) + np.kron([[-1j,0,0],[0,0,1],[0,1,0]], [[0,0,0],[0,0,0],[0,0,1]]), dtype='complex').copy()"
   ]
  },
  {
   "cell_type": "code",
   "execution_count": 22,
   "id": "8af77392",
   "metadata": {},
   "outputs": [],
   "source": [
    "process_matrix_ideal_ucx12 = qpt.run(gate=ideal_ucx12)"
   ]
  },
  {
   "cell_type": "code",
   "execution_count": null,
   "id": "f935c863",
   "metadata": {},
   "outputs": [],
   "source": []
  },
  {
   "cell_type": "markdown",
   "id": "fd825c37",
   "metadata": {},
   "source": [
    "### Obtaining the process matrix of the simulated UCX12 gate"
   ]
  },
  {
   "cell_type": "code",
   "execution_count": 23,
   "id": "fbbf6c01",
   "metadata": {},
   "outputs": [],
   "source": [
    "dt = 1/4.5e9\n",
    "\n",
    "amplitude = 0.4\n",
    "duration = 900\n",
    "\n",
    "cr_pulse = get_cr12_pulse(amplitude)\n",
    "cr_pulse.assign_parameters({'duration': int(duration)})\n",
    "t_span = [0., cr_pulse.duration*dt]\n",
    "\n",
    "state_array = []\n",
    "for i in range(9):\n",
    "    y0 = np.array([0,0,0,0,0,0,0,0,0])\n",
    "    y0[i] = 1\n",
    "    y0 = Statevector(y0)\n",
    "    cr_job = backend.solve(cr_pulse, t_span=t_span, y0=y0)\n",
    "    state_array.append(cr_job[0].y[-1].data)\n",
    "state_array = np.array(state_array)\n",
    "candidate_gate_ucx12 = state_array.transpose()"
   ]
  },
  {
   "cell_type": "code",
   "execution_count": 24,
   "id": "829243e3",
   "metadata": {},
   "outputs": [],
   "source": [
    "global_phase_ucx12 = 1/(candidate_gate_ucx12[0][0]/np.abs(candidate_gate_ucx12[0][0]))\n",
    "inter_gate_ucx12 = global_phase_ucx12*candidate_gate_ucx12"
   ]
  },
  {
   "cell_type": "code",
   "execution_count": 25,
   "id": "2cae10c3",
   "metadata": {},
   "outputs": [],
   "source": [
    "phase_0 = 1j\n",
    "phase_1 = 1/(inter_gate_ucx12[1][1]/np.abs(inter_gate_ucx12[1][1]))\n",
    "phase_2 = -1j/(inter_gate_ucx12[2][2]/np.abs(inter_gate_ucx12[2][2]))\n",
    "\n",
    "phase_gate_0 = np.kron(np.eye(3), np.diag([phase_0, phase_1, phase_2]))"
   ]
  },
  {
   "cell_type": "code",
   "execution_count": 26,
   "id": "24c6301e",
   "metadata": {},
   "outputs": [],
   "source": [
    "inter_gate_1_ucx12 = np.matmul(phase_gate_0, inter_gate_ucx12)"
   ]
  },
  {
   "cell_type": "code",
   "execution_count": 27,
   "id": "3b127574",
   "metadata": {},
   "outputs": [],
   "source": [
    "phase_0 = 1\n",
    "phase_1 = 1/(inter_gate_1_ucx12[3][6]/np.abs(inter_gate_1_ucx12[3][6]))\n",
    "phase_2 = 1/(inter_gate_1_ucx12[6][3]/np.abs(inter_gate_1_ucx12[6][3]))\n",
    "phase_gate_1 = np.kron(np.diag([phase_0, phase_1, phase_2]), np.eye(3))"
   ]
  },
  {
   "cell_type": "code",
   "execution_count": 28,
   "id": "8d7564b1",
   "metadata": {},
   "outputs": [],
   "source": [
    "sim_ucx12 = np.matmul(phase_gate_1, inter_gate_1_ucx12)"
   ]
  },
  {
   "cell_type": "code",
   "execution_count": 29,
   "id": "2c0a8e42",
   "metadata": {},
   "outputs": [],
   "source": [
    "process_matrix_sim_ucx12 = qpt.run(gate=sim_ucx12)"
   ]
  },
  {
   "cell_type": "code",
   "execution_count": null,
   "id": "9ce9e9d6",
   "metadata": {},
   "outputs": [],
   "source": []
  },
  {
   "cell_type": "markdown",
   "id": "8dae0db7",
   "metadata": {},
   "source": [
    "### Checking the fidelity of the simulated gate."
   ]
  },
  {
   "cell_type": "code",
   "execution_count": 30,
   "id": "ebb8ce28",
   "metadata": {},
   "outputs": [
    {
     "name": "stdout",
     "output_type": "stream",
     "text": [
      "The fidelity of the simulated UCX12 gate is : (0.9787832766832667-6.956026975274901e-17j).\n"
     ]
    }
   ],
   "source": [
    "fid_ucx12 = process_fidelity(process_matrix_ideal_ucx12, process_matrix_sim_ucx12)\n",
    "print(f\"The fidelity of the simulated UCX12 gate is : {fid_ucx12}.\")"
   ]
  },
  {
   "cell_type": "code",
   "execution_count": 31,
   "id": "7a4fec23",
   "metadata": {},
   "outputs": [
    {
     "data": {
      "image/png": "[encoded data removed]",
      "text/plain": [
       "<Figure size 1000x500 with 3 Axes>"
      ]
     },
     "metadata": {},
     "output_type": "display_data"
    },
    {
     "data": {
      "text/plain": [
       "None"
      ]
     },
     "metadata": {},
     "output_type": "display_data"
    }
   ],
   "source": [
    "compare_plot(process_matrix_ideal_ucx12, process_matrix_sim_ucx12)"
   ]
  },
  {
   "cell_type": "code",
   "execution_count": null,
   "id": "9aa6ffb6",
   "metadata": {},
   "outputs": [],
   "source": []
  },
  {
   "cell_type": "markdown",
   "id": "c4aa973a",
   "metadata": {},
   "source": [
    "# Realizing the proposed UCH01 gate"
   ]
  },
  {
   "cell_type": "markdown",
   "id": "18fa73a0",
   "metadata": {},
   "source": [
    "### Obtaining the process matrix of the ideal UCH01 gate"
   ]
  },
  {
   "cell_type": "code",
   "execution_count": 32,
   "id": "0e6bedf2",
   "metadata": {},
   "outputs": [],
   "source": [
    "ideal_uch01 = np.kron([[1/np.sqrt(2),1/np.sqrt(2),0],[-1/np.sqrt(2),1/np.sqrt(2),0],[0,0,1]], [[1,0,0],[0,0,0],[0,0,0]]) + np.kron([[1,0,0],[0,1,0],[0,0,1]], [[0,0,0],[0,1,0],[0,0,0]]) + np.kron([[1/np.sqrt(2),-1/np.sqrt(2),0],[1/np.sqrt(2),1/np.sqrt(2),0],[0,0,1]], [[0,0,0],[0,0,0],[0,0,1]])"
   ]
  },
  {
   "cell_type": "code",
   "execution_count": 33,
   "id": "1b38eb03",
   "metadata": {},
   "outputs": [],
   "source": [
    "process_matrix_ideal_uch01 = qpt.run(gate=ideal_uch01)"
   ]
  },
  {
   "cell_type": "code",
   "execution_count": null,
   "id": "50c15e1b",
   "metadata": {},
   "outputs": [],
   "source": []
  },
  {
   "cell_type": "markdown",
   "id": "2b5dc353",
   "metadata": {},
   "source": [
    "### Obtaining the process matrix of the simulated UCH01 gate"
   ]
  },
  {
   "cell_type": "code",
   "execution_count": 34,
   "id": "960b18b3",
   "metadata": {},
   "outputs": [],
   "source": [
    "dt = 1/4.5e9\n",
    "\n",
    "amplitude = 1.1\n",
    "duration = 450\n",
    "phase1 = np.pi/2\n",
    "\n",
    "\n",
    "cr_pulse = get_cr01_pulse(amplitude)\n",
    "cr_pulse.assign_parameters({'duration': int(duration)})\n",
    "t_span = [0., cr_pulse.duration*dt]\n",
    "\n",
    "with pulse.build() as phase_pulse:\n",
    "    pulse.shift_phase(phase1, uchan0)\n",
    "\n",
    "state_array = []\n",
    "for i in range(9):\n",
    "    y0 = np.array([0,0,0,0,0,0,0,0,0])\n",
    "    y0[i] = 1\n",
    "    y0 = Statevector(y0)\n",
    "    cr_job = backend.solve(phase_pulse.append(cr_pulse), t_span=t_span, y0=y0)\n",
    "    state_array.append(cr_job[0].y[-1].data)\n",
    "state_array = np.array(state_array)\n",
    "candidate_gate_uch01 = state_array.transpose()"
   ]
  },
  {
   "cell_type": "code",
   "execution_count": 35,
   "id": "1320f771",
   "metadata": {},
   "outputs": [],
   "source": [
    "phase_0 = 1/(candidate_gate_uch01[6][6]/np.abs(candidate_gate_uch01[6][6]))\n",
    "phase_1 = 1/(candidate_gate_uch01[7][7]/np.abs(candidate_gate_uch01[7][7]))\n",
    "phase_2 = 1/(candidate_gate_uch01[8][8]/np.abs(candidate_gate_uch01[8][8]))\n",
    "\n",
    "phase_gate_0 = np.kron(np.eye(3), np.diag([phase_0, phase_1, phase_2]))"
   ]
  },
  {
   "cell_type": "code",
   "execution_count": 36,
   "id": "be032b0f",
   "metadata": {},
   "outputs": [],
   "source": [
    "sim_uch01 = np.matmul(phase_gate_0, candidate_gate_uch01)"
   ]
  },
  {
   "cell_type": "code",
   "execution_count": 37,
   "id": "2516171a",
   "metadata": {},
   "outputs": [],
   "source": [
    "process_matrix_sim_uch01 = qpt.run(gate=sim_uch01)"
   ]
  },
  {
   "cell_type": "code",
   "execution_count": null,
   "id": "afc8d8ef",
   "metadata": {},
   "outputs": [],
   "source": []
  },
  {
   "cell_type": "markdown",
   "id": "a36e7a0b",
   "metadata": {},
   "source": [
    "### Checking the fidelity of the simulated gate."
   ]
  },
  {
   "cell_type": "code",
   "execution_count": 38,
   "id": "24d6ce00",
   "metadata": {},
   "outputs": [
    {
     "name": "stdout",
     "output_type": "stream",
     "text": [
      "The fidelity of the simulated UCH01 gate is : (0.9939378134034041+1.02798428206033e-18j).\n"
     ]
    }
   ],
   "source": [
    "fid_uch01 = process_fidelity(process_matrix_ideal_uch01, process_matrix_sim_uch01)\n",
    "print(f\"The fidelity of the simulated UCH01 gate is : {fid_uch01}.\")"
   ]
  },
  {
   "cell_type": "code",
   "execution_count": 39,
   "id": "9ab3e3b4",
   "metadata": {},
   "outputs": [
    {
     "name": "stdout",
     "output_type": "stream",
     "text": [
      "The value of the (0,0) elements is 6.801386896767571 and is an outlier. Removing that point for better comparison\n"
     ]
    },
    {
     "data": {
      "image/png": "[encoded data removed]",
      "text/plain": [
       "<Figure size 1000x500 with 3 Axes>"
      ]
     },
     "metadata": {},
     "output_type": "display_data"
    },
    {
     "data": {
      "text/plain": [
       "None"
      ]
     },
     "metadata": {},
     "output_type": "display_data"
    }
   ],
   "source": [
    "compare_plot(process_matrix_ideal_uch01, process_matrix_sim_uch01)"
   ]
  },
  {
   "cell_type": "code",
   "execution_count": null,
   "id": "9fcb73cd",
   "metadata": {},
   "outputs": [],
   "source": []
  },
  {
   "cell_type": "markdown",
   "id": "f96d5e44",
   "metadata": {},
   "source": [
    "# Realizing the proposed UCH12 gate"
   ]
  },
  {
   "cell_type": "markdown",
   "id": "50b5d3f5",
   "metadata": {},
   "source": [
    "### Obtaining the process matrix of the ideal UCH12 gate"
   ]
  },
  {
   "cell_type": "code",
   "execution_count": 40,
   "id": "ca85d146",
   "metadata": {},
   "outputs": [],
   "source": [
    "ideal_uch12 = np.kron([[1,0,0],[0,1/np.sqrt(2),1/np.sqrt(2)],[0,-1/np.sqrt(2),1/np.sqrt(2)]], [[1,0,0],[0,0,0],[0,0,0]]) + np.kron([[1,0,0],[0,1,0],[0,0,1]], [[0,0,0],[0,1,0],[0,0,0]]) + np.kron([[1,0,0],[0,1/np.sqrt(2),-1/np.sqrt(2)],[0,1/np.sqrt(2),1/np.sqrt(2)]], [[0,0,0],[0,0,0],[0,0,1]])"
   ]
  },
  {
   "cell_type": "code",
   "execution_count": 41,
   "id": "0c7f8cab",
   "metadata": {},
   "outputs": [],
   "source": [
    "process_matrix_ideal_uch12 = qpt.run(gate=ideal_uch12)"
   ]
  },
  {
   "cell_type": "code",
   "execution_count": null,
   "id": "bbc86cd4",
   "metadata": {},
   "outputs": [],
   "source": []
  },
  {
   "cell_type": "markdown",
   "id": "c7305511",
   "metadata": {},
   "source": [
    "### Obtaining the process matrix of the simulated UCH12 gate"
   ]
  },
  {
   "cell_type": "code",
   "execution_count": 42,
   "id": "dd2c16b6",
   "metadata": {},
   "outputs": [],
   "source": [
    "dt = 1/4.5e9\n",
    "\n",
    "amplitude = 0.4\n",
    "duration = 450\n",
    "\n",
    "phase1 = 1.3615109172373014\n",
    "\n",
    "cr_pulse = get_cr12_pulse(amplitude)\n",
    "cr_pulse.assign_parameters({'duration': int(duration)})\n",
    "t_span = [0., cr_pulse.duration*dt]\n",
    "\n",
    "with pulse.build() as phase_pulse:\n",
    "    pulse.shift_phase(phase1, uchan0)\n",
    "\n",
    "state_array = []\n",
    "for i in range(9):\n",
    "    y0 = np.array([0,0,0,0,0,0,0,0,0])\n",
    "    y0[i] = 1\n",
    "    y0 = Statevector(y0)\n",
    "    cr_job = backend.solve(phase_pulse.append(cr_pulse), t_span=t_span, y0=y0)\n",
    "    state_array.append(cr_job[0].y[-1].data)\n",
    "state_array = np.array(state_array)\n",
    "candidate_gate_uch12 = state_array.transpose()"
   ]
  },
  {
   "cell_type": "code",
   "execution_count": 43,
   "id": "e8730847",
   "metadata": {},
   "outputs": [],
   "source": [
    "global_phase_uch12 = 1/(candidate_gate_uch12[1][1]/np.abs(candidate_gate_uch12[1][1]))\n",
    "inter_gate_uch12 = global_phase_uch12*candidate_gate_uch12"
   ]
  },
  {
   "cell_type": "code",
   "execution_count": 44,
   "id": "b7f72c43",
   "metadata": {},
   "outputs": [],
   "source": [
    "phase_0 = 1/(inter_gate_uch12[0][0]/np.abs(inter_gate_uch12[0][0]))\n",
    "phase_1 = 1\n",
    "phase_2 = 1\n",
    "\n",
    "phase_gate_0 = np.kron(np.eye(3), np.diag([phase_0, phase_1, phase_2]))"
   ]
  },
  {
   "cell_type": "code",
   "execution_count": 45,
   "id": "bcd60200",
   "metadata": {},
   "outputs": [],
   "source": [
    "sim_uch12 = np.matmul(phase_gate_0, inter_gate_uch12)"
   ]
  },
  {
   "cell_type": "code",
   "execution_count": 46,
   "id": "28ff08b5",
   "metadata": {},
   "outputs": [],
   "source": [
    "process_matrix_sim_uch12 = qpt.run(gate=sim_uch12)"
   ]
  },
  {
   "cell_type": "code",
   "execution_count": null,
   "id": "bc7a508b",
   "metadata": {},
   "outputs": [],
   "source": []
  },
  {
   "cell_type": "markdown",
   "id": "02843ab0",
   "metadata": {},
   "source": [
    "### Checking the fidelity of the simulated gate."
   ]
  },
  {
   "cell_type": "code",
   "execution_count": 47,
   "id": "61ce41de",
   "metadata": {},
   "outputs": [
    {
     "name": "stdout",
     "output_type": "stream",
     "text": [
      "The fidelity of the simulated UCH12 gate is : (0.9899019740407949+2.7841240972467275e-18j).\n"
     ]
    }
   ],
   "source": [
    "fid_uch12 = process_fidelity(process_matrix_ideal_uch12, process_matrix_sim_uch12)\n",
    "print(f\"The fidelity of the simulated UCH12 gate is : {fid_uch12}.\")"
   ]
  },
  {
   "cell_type": "code",
   "execution_count": 48,
   "id": "b2599abf",
   "metadata": {},
   "outputs": [
    {
     "name": "stdout",
     "output_type": "stream",
     "text": [
      "The value of the (0,0) elements is 6.801386896767571 and is an outlier. Removing that point for better comparison\n"
     ]
    },
    {
     "data": {
      "image/png": "[encoded data removed]",
      "text/plain": [
       "<Figure size 1000x500 with 3 Axes>"
      ]
     },
     "metadata": {},
     "output_type": "display_data"
    },
    {
     "data": {
      "text/plain": [
       "None"
      ]
     },
     "metadata": {},
     "output_type": "display_data"
    }
   ],
   "source": [
    "compare_plot(process_matrix_ideal_uch12, process_matrix_sim_uch12)"
   ]
  },
  {
   "cell_type": "code",
   "execution_count": null,
   "id": "f328aeab",
   "metadata": {},
   "outputs": [],
   "source": []
  },
  {
   "cell_type": "code",
   "execution_count": null,
   "id": "9d582363",
   "metadata": {},
   "outputs": [],
   "source": []
  }
 ],
 "metadata": {
  "kernelspec": {
   "display_name": "Python 3 (ipykernel)",
   "language": "python",
   "name": "python3"
  },
  "language_info": {
   "codemirror_mode": {
    "name": "ipython",
    "version": 3
   },
   "file_extension": ".py",
   "mimetype": "text/x-python",
   "name": "python",
   "nbconvert_exporter": "python",
   "pygments_lexer": "ipython3",
   "version": "3.12.3"
  }
 },
 "nbformat": 4,
 "nbformat_minor": 5
}
