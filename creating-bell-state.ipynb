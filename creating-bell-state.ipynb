{
 "cells": [
  {
   "cell_type": "code",
   "execution_count": 1,
   "id": "000ee47e",
   "metadata": {},
   "outputs": [],
   "source": [
    "# Configure JAX\n",
    "import jax\n",
    "jax.config.update(\"jax_enable_x64\", True)\n",
    "jax.config.update(\"jax_platform_name\", \"cpu\")"
   ]
  },
  {
   "cell_type": "code",
   "execution_count": 2,
   "id": "8f837cbe",
   "metadata": {},
   "outputs": [],
   "source": [
    "import warnings\n",
    "warnings.filterwarnings('ignore')"
   ]
  },
  {
   "cell_type": "code",
   "execution_count": 3,
   "id": "1babde01",
   "metadata": {},
   "outputs": [],
   "source": [
    "import numpy as np\n",
    "\n",
    "from qiskit import *\n",
    "\n",
    "import matplotlib.pyplot as plt\n",
    "\n",
    "from qiskit.quantum_info import Statevector"
   ]
  },
  {
   "cell_type": "code",
   "execution_count": 4,
   "id": "a1907dc7",
   "metadata": {},
   "outputs": [],
   "source": [
    "freq_0 = 4.9e9\n",
    "amp_0 = 0.059501279242309815\n",
    "beta_0 =-0.9899497487437185\n",
    "ef_freq_0 = 4.5e9\n",
    "ef_amp_0 = 0.04091261035812275\n",
    "ef_beta_0 = -0.015075376884422287\n",
    "\n",
    "freq_1 = 5.5e9\n",
    "amp_1 = 0.05039825490571683\n",
    "beta_1 = -2.8282828282828283\n",
    "ef_freq_1 = 5.2e9\n",
    "ef_amp_1 = 0.03587788534159534\n",
    "ef_beta_1 = -2.8282828282828283\n",
    "\n",
    "dt = 1/4.5e9"
   ]
  },
  {
   "cell_type": "code",
   "execution_count": 5,
   "id": "ccca054c",
   "metadata": {},
   "outputs": [],
   "source": [
    "import numpy as np\n",
    "from qiskit import pulse\n",
    "from qiskit_dynamics import Solver, DynamicsBackend \n",
    "from qiskit.circuit.library import XGate, SXGate, RZGate, CXGate, HGate\n",
    "from qiskit.circuit import Parameter, Gate\n",
    "from qiskit.providers.backend import QubitProperties\n",
    "from qiskit.transpiler import InstructionProperties\n",
    "from qiskit.providers.models import PulseDefaults\n",
    "\n",
    "\n",
    "class TwoQutritPulseSimulator():\n",
    "    def __init__(\n",
    "        self,\n",
    "        qubit_frequency_0 = 4.9e9,\n",
    "        qubit_frequency_1 = 5.5e9,\n",
    "        anharmonicity_0 = -0.4e9,\n",
    "        anharmonicity_1 = -0.3e9,\n",
    "        drive_strength_0 = 0.22e9,\n",
    "        drive_strength_1 = 0.26e9,\n",
    "    ):\n",
    "        dim = 3\n",
    "\n",
    "        self.v0 = qubit_frequency_0\n",
    "        self.anharmon_0 = anharmonicity_0\n",
    "        self.r0 = drive_strength_0\n",
    "        \n",
    "        self.v1 = qubit_frequency_1\n",
    "        self.anharmon_1 = anharmonicity_1\n",
    "        self.r1 = drive_strength_1\n",
    "        \n",
    "        self.J = 2.7e6\n",
    "        \n",
    "        a = np.diag(np.sqrt(np.arange(1, dim)), 1)\n",
    "        adag = np.diag(np.sqrt(np.arange(1, dim)), -1)\n",
    "        N = np.diag(np.arange(dim))\n",
    "        \n",
    "        ident = np.eye(dim, dtype=complex)\n",
    "        full_ident = np.eye(dim**2, dtype=complex)\n",
    "        \n",
    "        N0 = np.kron(ident, N)\n",
    "        N1 = np.kron(N, ident)\n",
    "        \n",
    "        a0 = np.kron(ident, a)\n",
    "        a1 = np.kron(a, ident)\n",
    "        \n",
    "        a0dag = np.kron(ident, adag)\n",
    "        a1dag = np.kron(adag, ident)\n",
    "        \n",
    "        \n",
    "        static_ham0 = 2 * np.pi * self.v0 * N0 + np.pi * self.anharmon_0 * N0 * (N0 - full_ident)\n",
    "        static_ham1 = 2 * np.pi * self.v1 * N1 + np.pi * self.anharmon_1 * N1 * (N1 - full_ident)\n",
    "        \n",
    "        static_ham_full = static_ham0 + static_ham1 + 2 * np.pi * self.J * ((a0 + a0dag) @ (a1 + a1dag))\n",
    "        \n",
    "        drive_op0 = 2 * np.pi * self.r0 * (a0 + a0dag)\n",
    "        drive_op1 = 2 * np.pi * self.r1 * (a1 + a1dag)\n",
    "\n",
    "        # build solver\n",
    "        dt = 1/4.5e9\n",
    "        \n",
    "        self.solver = Solver(\n",
    "            static_hamiltonian=static_ham_full,\n",
    "            hamiltonian_operators=[drive_op0, drive_op1, drive_op0, drive_op1],\n",
    "            # rotating_frame=static_ham_full,\n",
    "            hamiltonian_channels=[\"d0\", \"d1\", \"u0\", \"u1\"],\n",
    "            channel_carrier_freqs={\"d0\": self.v0, \"d1\": self.v1, \"u0\": self.v1, \"u1\": self.v0},\n",
    "            dt=dt,\n",
    "            array_library=\"jax\",\n",
    "        )\n",
    "\n",
    "        # Consistent solver option to use throughout notebook\n",
    "        solver_options = {\"method\": \"jax_odeint\", \"atol\": 1e-10, \"rtol\": 1e-10, \"hmax\": dt}\n",
    "        \n",
    "        self.backend = DynamicsBackend(\n",
    "            solver=self.solver,\n",
    "            subsystem_dims=[dim, dim], # for computing measurement data\n",
    "            solver_options=solver_options, # to be used every time run is called\n",
    "            max_outcome_level=dim,\n",
    "        )\n",
    "\n",
    "        # self.backend.set_options(\n",
    "        #     defaults = PulseDefaults.from_dict(\n",
    "        #         {\n",
    "        #             \"qubit_freq_est\": [self.v0, self.v1],\n",
    "        #             \"meas_freq_est\": [0, 0],\n",
    "        #             \"buffer\": 0,\n",
    "        #             \"pulse_library\": [],\n",
    "        #             \"cmd_def\":[]\n",
    "        #         }\n",
    "        #     )\n",
    "        # )\n",
    "\n",
    "        self.target = self.backend.target\n",
    "\n",
    "        # qubit properties\n",
    "        self.target.qubit_properties = [QubitProperties(frequency=self.v0), QubitProperties(frequency=self.v1)]\n",
    "        \n",
    "        #####################################################################################\n",
    "        ##### add instructions for qutrits #####\n",
    "\n",
    "        x01_gate = Gate('x01', 1, [])\n",
    "        \n",
    "        with pulse.build() as x01_0:\n",
    "            pulse.Play(pulse.Gaussian(320, 0.5, 80), pulse.DriveChannel(0))\n",
    "        \n",
    "        with pulse.build() as x01_1:\n",
    "            pulse.Play(pulse.Gaussian(320, 0.5, 80), pulse.DriveChannel(1))\n",
    "\n",
    "        self.target.add_instruction(\n",
    "            x01_gate,\n",
    "            {\n",
    "                (0,): InstructionProperties(calibration=x01_0), \n",
    "                (1,): InstructionProperties(calibration=x01_1)\n",
    "            }\n",
    "        )\n",
    "        \n",
    "        # self.target.add_instruction(XGate(), properties={(0,): None, (1,): None})\n",
    "        # self.target.add_instruction(SXGate(), properties={(0,): None, (1,): None})\n",
    "        \n",
    "        self.target.add_instruction(CXGate(), properties={(0, 1): None, (1, 0): None})\n",
    "        \n",
    "        #### Add RZ instruction as phase shift for drag cal  #####\n",
    "        phi = Parameter(\"phi\")\n",
    "        with pulse.build() as rz0:\n",
    "            pulse.shift_phase(phi, pulse.DriveChannel(0))\n",
    "            pulse.shift_phase(phi, pulse.ControlChannel(1))\n",
    "        \n",
    "        with pulse.build() as rz1:\n",
    "            pulse.shift_phase(phi, pulse.DriveChannel(1))\n",
    "            pulse.shift_phase(phi, pulse.ControlChannel(0))\n",
    "        \n",
    "        self.target.add_instruction(\n",
    "            RZGate(phi),\n",
    "            {(0,): InstructionProperties(calibration=rz0), (1,): InstructionProperties(calibration=rz1)}\n",
    "        )\n",
    "\n",
    "        ##################################################################################\n",
    "\n",
    "        self.backend.set_options(control_channel_map={(0, 1): 0, (1, 0): 1})\n",
    "\n",
    "    def get_backend(self):\n",
    "        return self.backend\n",
    "\n",
    "    def get_solver(self):\n",
    "        return self.solver\n",
    "\n",
    "    def get_target(self):\n",
    "        return self.target"
   ]
  },
  {
   "cell_type": "code",
   "execution_count": 6,
   "id": "2b0d7206",
   "metadata": {},
   "outputs": [
    {
     "name": "stderr",
     "output_type": "stream",
     "text": [
      "WARNING:2025-04-14 13:17:08,297:jax._src.xla_bridge:966: An NVIDIA GPU may be present on this machine, but a CUDA-enabled jaxlib is not installed. Falling back to cpu.\n"
     ]
    }
   ],
   "source": [
    "sim = TwoQutritPulseSimulator()\n",
    "target = sim.get_target()\n",
    "backend = sim.get_backend()"
   ]
  },
  {
   "cell_type": "code",
   "execution_count": 7,
   "id": "c5729dfa",
   "metadata": {},
   "outputs": [],
   "source": [
    "dchan0 = pulse.DriveChannel(0)\n",
    "dchan1 = pulse.DriveChannel(1)\n",
    "\n",
    "uchan0 = pulse.ControlChannel(0)\n",
    "uchan1 = pulse.ControlChannel(1)\n",
    "\n",
    "achan0 = pulse.AcquireChannel(0)\n",
    "achan1 = pulse.AcquireChannel(1)\n",
    "\n",
    "memslot = pulse.MemorySlot(0)"
   ]
  },
  {
   "cell_type": "code",
   "execution_count": null,
   "id": "f22ae81f",
   "metadata": {},
   "outputs": [],
   "source": []
  },
  {
   "cell_type": "code",
   "execution_count": 8,
   "id": "2c19a500",
   "metadata": {},
   "outputs": [],
   "source": [
    "def bell_fidelity(state):\n",
    "    omega = (-1 + (np.sqrt(3)*1j))/2\n",
    "    base_states = [\n",
    "        Statevector(np.array([1/np.sqrt(3), 0, 0, 0, 1/np.sqrt(3), 0, 0, 0, 1/np.sqrt(3)])),\n",
    "        Statevector(np.array([1/np.sqrt(3), 0, 0, 0, omega/np.sqrt(3), 0, 0, 0, (omega**2)/np.sqrt(3)])),\n",
    "        Statevector(np.array([1/np.sqrt(3), 0, 0, 0, (omega**2)/np.sqrt(3), 0, 0, 0, omega/np.sqrt(3)])),\n",
    "        Statevector(np.array([0, 1/np.sqrt(3), 0, 0, 0, 1/np.sqrt(3), 1/np.sqrt(3), 0, 0])),\n",
    "        Statevector(np.array([0, 1/np.sqrt(3), 0, 0, 0, omega/np.sqrt(3), (omega**2)/np.sqrt(3), 0, 0])),\n",
    "        Statevector(np.array([0, 1/np.sqrt(3), 0, 0, 0, (omega**2)/np.sqrt(3), omega/np.sqrt(3), 0, 0])),\n",
    "        Statevector(np.array([0, 0, 1/np.sqrt(3), 1/np.sqrt(3), 0, 0, 0, 1/np.sqrt(3), 0])),\n",
    "        Statevector(np.array([0, 0, 1/np.sqrt(3), omega/np.sqrt(3), 0, 0, 0, (omega**2)/np.sqrt(3), 0])),\n",
    "        Statevector(np.array([0, 0, 1/np.sqrt(3), (omega**2)/np.sqrt(3), 0, 0, 0, omega/np.sqrt(3), 0])),\n",
    "    ]\n",
    "    \n",
    "    fid = 0\n",
    "    for bstate in base_states:\n",
    "        new_fid = np.absolute(bstate.data.dot(state.data))**2\n",
    "        if new_fid > fid:\n",
    "            fid = new_fid\n",
    "    return fid"
   ]
  },
  {
   "cell_type": "code",
   "execution_count": 9,
   "id": "7beef7bd",
   "metadata": {},
   "outputs": [],
   "source": [
    "from qiskit.quantum_info.states import Statevector\n",
    "from qiskit.quantum_info import *\n",
    "from qiskit.quantum_info import *\n",
    "import scipy.linalg as la"
   ]
  },
  {
   "cell_type": "code",
   "execution_count": 10,
   "id": "72003ff1",
   "metadata": {},
   "outputs": [],
   "source": [
    "dt = 1/4.5e9"
   ]
  },
  {
   "cell_type": "code",
   "execution_count": 11,
   "id": "90afee35",
   "metadata": {},
   "outputs": [],
   "source": [
    "def qubit_concur(state):\n",
    "    rho = DensityMatrix(state).data\n",
    "    yy_mat = np.fliplr(np.diag([-1, 1, 1, -1]))\n",
    "    sigma = rho.dot(yy_mat).dot(rho.conj()).dot(yy_mat)\n",
    "    w = np.sort(np.real(la.eigvals(sigma)))\n",
    "    w = np.sqrt(np.maximum(w, 0.0))\n",
    "    \n",
    "    return max(0.0, w[-1] - np.sum(w[0:-1]))\n",
    "\n",
    "def qutrit_concur(state):\n",
    "    y = state.data\n",
    "    concur = np.sqrt((3*(np.abs(y[0]*y[4] - y[1]*y[3])**2\n",
    "              + np.abs(y[2]*y[3] - y[0]*y[5])**2\n",
    "              + np.abs(y[1]*y[5] - y[2]*y[4])**2\n",
    "              + np.abs(y[1]*y[6] - y[0]*y[7])**2\n",
    "              + np.abs(y[0]*y[8] - y[2]*y[6])**2\n",
    "              + np.abs(y[3]*y[7] - y[4]*y[6])**2\n",
    "              + np.abs(y[5]*y[6] - y[3]*y[8])**2\n",
    "              + np.abs(y[2]*y[7] - y[1]*y[8])**2\n",
    "              + np.abs(y[4]*y[8] - y[5]*y[7])**2)\n",
    "             ))\n",
    "    return concur"
   ]
  },
  {
   "cell_type": "code",
   "execution_count": 48,
   "id": "15be3a57",
   "metadata": {},
   "outputs": [],
   "source": [
    "theta_1 = 2*np.acos(np.sqrt(1/3))\n",
    "theta_2 = 2*np.acos(np.sqrt(1/2))\n",
    "\n",
    "def bell_state_pulse():\n",
    "    \n",
    "    with pulse.build(name=\"cr_0\") as bell_pulse:            \n",
    "        pulse.set_frequency(freq_0, dchan0)\n",
    "        pulse.play(pulse.Drag(320, (theta_1/np.pi)*amp_0, 80, beta_0, limit_amplitude=False), dchan0)\n",
    "        pulse.set_frequency(ef_freq_0, dchan0)\n",
    "        pulse.play(pulse.Drag(320, (theta_2/np.pi)*ef_amp_0, 80, ef_beta_0, limit_amplitude=False), dchan0)\n",
    "        \n",
    "        delay_time = 640\n",
    "        \n",
    "        pulse.delay(delay_time, uchan0)\n",
    "        pulse.set_frequency(freq_1, uchan0)\n",
    "        pulse.play(pulse.GaussianSquare(1350, 2, 76, 0.9*1350, limit_amplitude=False), uchan0)\n",
    "        \n",
    "        delay_time = delay_time + 1350\n",
    "        \n",
    "        pulse.delay(delay_time, dchan1)\n",
    "        pulse.set_frequency(ef_freq_1, dchan1)\n",
    "        pulse.shift_phase(-np.pi/2, dchan1)\n",
    "        pulse.play(pulse.Drag(320, ((np.pi/2)/np.pi)*ef_amp_1, 80, ef_beta_1, limit_amplitude=False), dchan1)\n",
    "        pulse.shift_phase(np.pi/2, dchan1)\n",
    "\n",
    "        delay_time = 320\n",
    "        \n",
    "        pulse.delay(delay_time, uchan0)\n",
    "        pulse.set_frequency(ef_freq_1, uchan0)\n",
    "        pulse.play(pulse.GaussianSquare(450, 1, 76, 0.9*450, limit_amplitude=False), uchan0)\n",
    "        \n",
    "        delay_time = 450\n",
    "        \n",
    "        pulse.delay(delay_time, dchan1)\n",
    "        \n",
    "        pulse.set_frequency(freq_1, dchan1)\n",
    "        pulse.play(pulse.Drag(320, amp_1, 80, beta_1, limit_amplitude=False), dchan1)\n",
    "        \n",
    "#         pulse.delay(delay_time + 7700 + 640, achan0)\n",
    "#         pulse.delay(delay_time + 7700 + 640, achan1)\n",
    "        \n",
    "#         pulse.acquire(1, achan0, pulse.MemorySlot(1))\n",
    "#         pulse.acquire(1, achan1, pulse.MemorySlot(0))\n",
    "    return bell_pulse\n",
    "\n",
    "\n",
    "bell_pulse = bell_state_pulse()\n",
    "\n",
    "# bell_job = backend.run(bell_pulse, meas_level=2, max_outcome_level=2, shots=10000)\n",
    "\n",
    "# y0 = Statevector([1,0,0,0,0,0,0,0,0])\n",
    "# bell_job = backend.solve(bell_pulse, t_span = [0., 8980*dt], y0=y0)"
   ]
  },
  {
   "cell_type": "code",
   "execution_count": 47,
   "id": "2c017600",
   "metadata": {},
   "outputs": [
    {
     "data": {
      "image/png": "[encoded data removed]",
      "text/plain": [
       "<Figure size 1300x533.392 with 1 Axes>"
      ]
     },
     "execution_count": 47,
     "metadata": {},
     "output_type": "execute_result"
    }
   ],
   "source": [
    "bell_pulse.draw()"
   ]
  },
  {
   "cell_type": "code",
   "execution_count": 49,
   "id": "acfbcb1a",
   "metadata": {},
   "outputs": [],
   "source": [
    "y0 = Statevector([1,0,0,0,0,0,0,0,0])\n",
    "bell_job = backend.solve(bell_pulse, t_span = [0., 3100*dt], y0=y0)"
   ]
  },
  {
   "cell_type": "code",
   "execution_count": 50,
   "id": "b21fe58b",
   "metadata": {},
   "outputs": [
    {
     "name": "stdout",
     "output_type": "stream",
     "text": [
      "0.9291757996480149\n"
     ]
    }
   ],
   "source": [
    "t_state = bell_job[0].y[-1]\n",
    "print(qutrit_concur(t_state))"
   ]
  },
  {
   "cell_type": "code",
   "execution_count": 51,
   "id": "477e38b1",
   "metadata": {},
   "outputs": [
    {
     "name": "stdout",
     "output_type": "stream",
     "text": [
      "[-0.0169-0.5506j -0.0657+0.0809j -0.1639+0.0129j  0.0352+0.0531j\n",
      " -0.3585+0.4284j -0.0574-0.0888j -0.0617-0.1297j  0.0498+0.0901j\n",
      " -0.3532+0.4187j]\n"
     ]
    }
   ],
   "source": [
    "print(np.round(t_state.data, 4))"
   ]
  },
  {
   "cell_type": "code",
   "execution_count": 52,
   "id": "0d08aa57",
   "metadata": {},
   "outputs": [
    {
     "name": "stdout",
     "output_type": "stream",
     "text": [
      "[0.303 0.011 0.027 0.004 0.312 0.011 0.021 0.011 0.3  ]\n"
     ]
    }
   ],
   "source": [
    "print(np.round(t_state.probabilities(), 3))"
   ]
  },
  {
   "cell_type": "code",
   "execution_count": 53,
   "id": "f4f13b0d",
   "metadata": {},
   "outputs": [
    {
     "name": "stdout",
     "output_type": "stream",
     "text": [
      "0.3557821221066804\n"
     ]
    }
   ],
   "source": [
    "print(bell_fidelity(t_state))"
   ]
  },
  {
   "cell_type": "code",
   "execution_count": 55,
   "id": "ed9bcead",
   "metadata": {},
   "outputs": [],
   "source": [
    "probs = t_state.probabilities()"
   ]
  },
  {
   "cell_type": "code",
   "execution_count": 56,
   "id": "3bfa5d20",
   "metadata": {},
   "outputs": [
    {
     "data": {
      "text/plain": [
       "<BarContainer object of 9 artists>"
      ]
     },
     "execution_count": 56,
     "metadata": {},
     "output_type": "execute_result"
    },
    {
     "data": {
      "image/png": "[encoded data removed]",
      "text/plain": [
       "<Figure size 640x480 with 1 Axes>"
      ]
     },
     "metadata": {},
     "output_type": "display_data"
    }
   ],
   "source": [
    "basis_states = ['00','01','02','10','11','12','20','21','22']\n",
    "# basis_counts = []\n",
    "\n",
    "# for state in basis_states:\n",
    "#     if state in counts:\n",
    "#         basis_counts.append(counts[state]/10000)\n",
    "#     else:\n",
    "#         basis_counts.append(0)\n",
    "\n",
    "# plt.figure(figsize=(18,7))\n",
    "plt.bar(basis_states, probs)"
   ]
  },
  {
   "cell_type": "code",
   "execution_count": 118,
   "id": "0d5ccf93",
   "metadata": {},
   "outputs": [
    {
     "name": "stdout",
     "output_type": "stream",
     "text": [
      "1999.9999999999998\n"
     ]
    }
   ],
   "source": [
    "dt = 1/4.5e9\n",
    "print(9000*dt/1e-9)"
   ]
  },
  {
   "cell_type": "code",
   "execution_count": null,
   "id": "3fde74b5",
   "metadata": {},
   "outputs": [],
   "source": []
  }
 ],
 "metadata": {
  "kernelspec": {
   "display_name": "Python 3 (ipykernel)",
   "language": "python",
   "name": "python3"
  },
  "language_info": {
   "codemirror_mode": {
    "name": "ipython",
    "version": 3
   },
   "file_extension": ".py",
   "mimetype": "text/x-python",
   "name": "python",
   "nbconvert_exporter": "python",
   "pygments_lexer": "ipython3",
   "version": "3.12.3"
  }
 },
 "nbformat": 4,
 "nbformat_minor": 5
}
